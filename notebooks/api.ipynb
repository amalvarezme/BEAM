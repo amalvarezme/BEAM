{
 "cells": [
  {
   "cell_type": "code",
   "execution_count": 10,
   "id": "694414c6-8140-4b36-9d4f-c8b0cbc90789",
   "metadata": {},
   "outputs": [],
   "source": [
    "from dunderlab.api import aioAPI as API\n",
    "from dunderlab.api.utils import JSON\n",
    "import json\n",
    "import numpy as np"
   ]
  },
  {
   "cell_type": "code",
   "execution_count": 11,
   "id": "267b08cd-effc-4125-aa75-49e5e3bad544",
   "metadata": {},
   "outputs": [],
   "source": [
    "api = API('http://127.0.0.1:51190/')"
   ]
  },
  {
   "cell_type": "code",
   "execution_count": 111,
   "id": "8c94ee20-022a-482a-ac31-ce45bddf76cf",
   "metadata": {},
   "outputs": [
    {
     "name": "stdout",
     "output_type": "stream",
     "text": [
      "\n",
      "{\n",
      "  \"done\": \"ok\",\n",
      "}\n"
     ]
    }
   ],
   "source": [
    "response = await api.acquisition.put({\n",
    "\n",
    "    'bands': [(88, 108),],\n",
    "    'sample_rate': 10e6,\n",
    "    'step_width': 10e6,\n",
    "    'step_offset': None,\n",
    "    'read_num_blocks': 1,\n",
    "    'buffer_num_blocks': 1,\n",
    "}\n",
    "    \n",
    ")\n",
    "JSON(response)"
   ]
  },
  {
   "cell_type": "code",
   "execution_count": 112,
   "id": "00539700-989d-49a4-b55f-ae84c72d3a5d",
   "metadata": {},
   "outputs": [
    {
     "name": "stdout",
     "output_type": "stream",
     "text": [
      "\n",
      "{\n",
      "  \"data\": \n",
      "  {\n",
      "    \"88000000\": \n",
      "    {\n",
      "      \"P\": [-1.007843137254902, -0.9764705882352941, -0.9529411764705882, -1.0, -1.007843137254902, ...],\n",
      "      \"Q\": [-1.007843137254902, -0.9764705882352941, -0.9529411764705882, -1.0, -1.007843137254902, ...],\n",
      "    },\n",
      "    \"98000000\": \n",
      "    {\n",
      "      \"P\": [-0.9764705882352941, -0.9843137254901961, -0.9764705882352941, -0.9921568627450981, -0.9921568627450981, ...],\n",
      "      \"Q\": [-0.9764705882352941, -0.9843137254901961, -0.9764705882352941, -0.9921568627450981, -0.9921568627450981, ...],\n",
      "    },\n",
      "  },\n",
      "  \"config\": \n",
      "  {\n",
      "    \"step_offset\": 5000000.0,\n",
      "    \"sample_rate\": 10000000.0,\n",
      "    \"num_bytes\": 16384,\n",
      "    \"step_width\": 10000000.0,\n",
      "    \"interleaved\": false,\n",
      "    \"buffer_size\": 16384,\n",
      "    \"bands\": [[88, 108]],\n",
      "  },\n",
      "}\n"
     ]
    }
   ],
   "source": [
    "response = await api.acquisition.get()\n",
    "JSON(response)"
   ]
  },
  {
   "cell_type": "code",
   "execution_count": null,
   "id": "e7799b84-00bb-4405-8759-efcd6ec7a602",
   "metadata": {},
   "outputs": [],
   "source": []
  }
 ],
 "metadata": {
  "kernelspec": {
   "display_name": "Python 3 (ipykernel)",
   "language": "python",
   "name": "python3"
  },
  "language_info": {
   "codemirror_mode": {
    "name": "ipython",
    "version": 3
   },
   "file_extension": ".py",
   "mimetype": "text/x-python",
   "name": "python",
   "nbconvert_exporter": "python",
   "pygments_lexer": "ipython3",
   "version": "3.12.5"
  }
 },
 "nbformat": 4,
 "nbformat_minor": 5
}
