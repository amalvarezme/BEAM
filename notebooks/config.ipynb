{
 "cells": [
  {
   "cell_type": "code",
   "execution_count": null,
   "id": "a394cb71-27c5-4edb-8c3c-5047dbf540ba",
   "metadata": {},
   "outputs": [],
   "source": [
    "sudo apt update\n",
    "sudo apt upgrade"
   ]
  },
  {
   "cell_type": "code",
   "execution_count": null,
   "id": "a2c3870a-c67f-4f74-a740-4a4f11fd978e",
   "metadata": {},
   "outputs": [],
   "source": [
    "curl -fsSL https://get.docker.com -o get-docker.sh\n",
    "sudo sh get-docker.sh"
   ]
  },
  {
   "cell_type": "code",
   "execution_count": null,
   "id": "5cbd0c21-1199-497a-afb5-d8b97107ec39",
   "metadata": {},
   "outputs": [],
   "source": [
    "sudo usermod -aG docker $USER"
   ]
  },
  {
   "cell_type": "code",
   "execution_count": null,
   "id": "0b42b94c-40f5-4674-bf48-8fa8c7df287b",
   "metadata": {},
   "outputs": [],
   "source": [
    "se debe reiniciar para que tenga efecto"
   ]
  },
  {
   "cell_type": "code",
   "execution_count": null,
   "id": "2d49c556-4b01-4def-aa11-7db7dbc285a4",
   "metadata": {},
   "outputs": [],
   "source": [
    "sudo systemctl start docker"
   ]
  },
  {
   "cell_type": "code",
   "execution_count": null,
   "id": "fc2cdbec-db49-4666-81a5-da373af7e006",
   "metadata": {},
   "outputs": [],
   "source": [
    "sudo systemctl enable docker"
   ]
  },
  {
   "cell_type": "code",
   "execution_count": null,
   "id": "b2dd3b5e-9b03-4f14-8bca-4b99a1746152",
   "metadata": {},
   "outputs": [],
   "source": [
    "sudo systemctl status docker"
   ]
  }
 ],
 "metadata": {
  "kernelspec": {
   "display_name": "Python 3 (ipykernel)",
   "language": "python",
   "name": "python3"
  },
  "language_info": {
   "codemirror_mode": {
    "name": "ipython",
    "version": 3
   },
   "file_extension": ".py",
   "mimetype": "text/x-python",
   "name": "python",
   "nbconvert_exporter": "python",
   "pygments_lexer": "ipython3",
   "version": "3.12.5"
  }
 },
 "nbformat": 4,
 "nbformat_minor": 5
}
